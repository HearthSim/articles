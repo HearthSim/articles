{
 "cells": [
  {
   "cell_type": "code",
   "execution_count": 2,
   "metadata": {
    "collapsed": true
   },
   "outputs": [],
   "source": [
    "%matplotlib inline\n",
    "import numpy as np\n",
    "import pandas as pd\n",
    "import plotly\n",
    "pd.options.display.max_rows = 20\n",
    "\n",
    "from hearthstone.enums import CardClass\n",
    "from hearthstone import cardxml\n",
    "db = cardxml.load()[0]\n",
    "import matplotlib\n",
    "matplotlib.style.use('ggplot')"
   ]
  },
  {
   "cell_type": "code",
   "execution_count": 3,
   "metadata": {
    "collapsed": false
   },
   "outputs": [],
   "source": [
    "def card_class(e):\n",
    "    return db[e].card_class.name if e else float('NaN')\n",
    "\n",
    "df = pd.read_csv('crash_brawl_final.csv',\n",
    "                 names=['First player', 'Friendly player', 'Player1 Hero',\n",
    "                        'Player2 Hero', 'Player1 Playstate', 'Player2 Playstate', 'Turn',\n",
    "                        'FirstPlayer Pick', 'FirstPlayer Choice1', 'FirstPlayer Choice2',\n",
    "                        'FirstPlayer Choice3', 'SecPlayer Pick', 'SecPlayer Choice1',\n",
    "                        'SecPlayer Choice2', 'SecPlayer Choice3'],\n",
    "                 converters={column: card_class for column in ['Player1 Hero',\n",
    "                                                              'Player2 Hero',\n",
    "                                                              'FirstPlayer Pick',\n",
    "                                                              'FirstPlayer Choice1',\n",
    "                                                              'FirstPlayer Choice2',\n",
    "                                                              'FirstPlayer Choice3',\n",
    "                                                              'SecPlayer Pick',\n",
    "                                                              'SecPlayer Choice1',\n",
    "                                                              'SecPlayer Choice2',\n",
    "                                                              'SecPlayer Choice3']})"
   ]
  },
  {
   "cell_type": "code",
   "execution_count": 4,
   "metadata": {
    "collapsed": false
   },
   "outputs": [],
   "source": [
    "# Rearrange columns in terms of friendly and opposing player\n",
    "from collections import OrderedDict\n",
    "\n",
    "def remap_columns(row):\n",
    "    friendly_idx = row['Friendly player']\n",
    "    friendly_text = 'First' if friendly_idx == row['First player'] else 'Sec'\n",
    "    other_idx = 2 if friendly_idx == 1 else 1\n",
    "    other_text = 'First' if other_idx == row['First player'] else 'Sec'\n",
    "    pick = row['%sPlayer Pick' % friendly_text]\n",
    "\n",
    "    return pd.Series(OrderedDict([\n",
    "                ['Is First', friendly_idx == row['First player']],\n",
    "                ['Player Index', friendly_idx],\n",
    "                ['Won', row['Player%d Playstate' % friendly_idx] == 'WON'],\n",
    "                ['Turn', row['Turn']],\n",
    "                ['Player Hero', row['Player%d Hero' % friendly_idx]],\n",
    "                ['Other Hero', row['Player%d Hero' % other_idx]],\n",
    "                ['Player Pick', pick],\n",
    "                ['Player Choice1', row['%sPlayer Choice1' % friendly_text]],\n",
    "                ['Player Choice2', row['%sPlayer Choice2' % friendly_text]],\n",
    "                ['Player Choice3', row['%sPlayer Choice3' % friendly_text]],                \n",
    "                ['Player Pick Idx', (1 if row['%sPlayer Choice1' % friendly_text] == pick\n",
    "                                     else 2 if row['%sPlayer Choice2' % friendly_text] == pick\n",
    "                                     else 3)],\n",
    "                ['Other Pick', row['%sPlayer Pick' % other_text]],\n",
    "            ]))\n",
    "remapped = df.apply(remap_columns, axis=1)\n",
    "remapped\n",
    "\n",
    "choice_dummies = sum(pd.get_dummies(remapped['Player Choice%d' % (idx + 1)], prefix='Choice') for idx in range(3))\n",
    "remapped.join(choice_dummies)\n",
    "None # Hide output"
   ]
  },
  {
   "cell_type": "code",
   "execution_count": 338,
   "metadata": {
    "collapsed": true
   },
   "outputs": [],
   "source": [
    "# Dump things out so other people can use the nice version\n",
    "remapped.to_csv('crash_brawl_final_remapped.csv')"
   ]
  },
  {
   "cell_type": "code",
   "execution_count": 6,
   "metadata": {
    "collapsed": false
   },
   "outputs": [
    {
     "name": "stdout",
     "output_type": "stream",
     "text": [
      "| 1st / 2nd Hero         | Pick   | Win Rate   |\n",
      "|:-----------------------|:-------|:-----------|\n",
      "| ('PALADIN', 'WARRIOR') | 59.6%  | 1.3%       |\n",
      "| ('MAGE', 'PALADIN')    | 57.8%  | 3.2%       |\n",
      "| ('PALADIN', 'MAGE')    | 57.4%  | 2.9%       |\n",
      "| ('MAGE', 'HUNTER')     | 56.6%  | 2.6%       |\n",
      "| ('ROGUE', 'PALADIN')   | 56.3%  | 1.5%       |\n",
      "\n",
      "\n",
      "| 1st / 2nd Hero         | Win Rate   | Popularity   |\n",
      "|:-----------------------|:-----------|:-------------|\n",
      "| ('WARRIOR', 'WARLOCK') | 42.1%      | 0.5%         |\n",
      "| ('WARRIOR', 'HUNTER')  | 42.0%      | 1.1%         |\n",
      "| ('PRIEST', 'DRUID')    | 41.9%      | 1.3%         |\n",
      "| ('PRIEST', 'WARLOCK')  | 39.2%      | 0.8%         |\n",
      "| ('HUNTER', 'PRIEST')   | 39.0%      | 0.7%         |\n",
      "\n",
      "\n",
      "| 1st / 2nd Hero      | Pick   | Win Rate   |\n",
      "|:--------------------|:-------|:-----------|\n",
      "| ('MAGE', 'PALADIN') | 57.8%  | 3.2%       |\n",
      "| ('PALADIN', 'MAGE') | 57.4%  | 2.9%       |\n",
      "| ('MAGE', 'HUNTER')  | 56.6%  | 2.6%       |\n",
      "| ('MAGE', 'DRUID')   | 55.4%  | 2.6%       |\n",
      "| ('DRUID', 'MAGE')   | 52.4%  | 2.4%       |\n",
      "\n",
      "\n",
      "| 1st / 2nd Hero         | Win Rate   | Popularity   |\n",
      "|:-----------------------|:-----------|:-------------|\n",
      "| ('HUNTER', 'PRIEST')   | 39.0%      | 0.7%         |\n",
      "| ('DRUID', 'WARLOCK')   | 49.7%      | 0.6%         |\n",
      "| ('ROGUE', 'WARLOCK')   | 43.6%      | 0.5%         |\n",
      "| ('WARRIOR', 'WARLOCK') | 42.1%      | 0.5%         |\n",
      "| ('SHAMAN', 'WARLOCK')  | 50.3%      | 0.5%         |\n"
     ]
    }
   ],
   "source": [
    "pairs1 = remapped[['Won', 'Player Hero', 'Player Pick']].copy()\n",
    "pairs1.columns = ['Won', 'Hero', 'Pick']\n",
    "pairs2 = remapped[['Won', 'Other Hero', 'Other Pick']].copy()\n",
    "pairs2['Won'] = ~pairs2['Won']\n",
    "pairs2.columns = ['Won', 'Hero', 'Pick']\n",
    "pairs = pd.concat([pairs1, pairs2])\n",
    "\n",
    "def to_pct(dbl):\n",
    "    return '%.1f%%' % (dbl * 100)\n",
    "\n",
    "t = pd.crosstab(pairs['Won'], [pairs['Hero'], pairs['Pick']])\n",
    "\n",
    "with_pop = pd.DataFrame((t[1:] / t.sum()).T[True]).join(\n",
    "    pd.DataFrame(pairs.groupby(['Hero', 'Pick']).size() / len(pairs)))\n",
    "with_pop.columns = ['Win Rate', 'Popularity']\n",
    "with_pop['Win Rate'] = with_pop['Win Rate'].apply(to_pct)\n",
    "with_pop['Popularity'] = with_pop['Popularity'].apply(to_pct)\n",
    "\n",
    "with_pop = with_pop.sort_values(by='Win Rate', ascending=False)\n",
    "\n",
    "from tabulate import tabulate\n",
    "print(tabulate(with_pop.head(5), ['1st / 2nd Hero', 'Pick', 'Win Rate', 'Popularity'], tablefmt=\"pipe\"))\n",
    "print('\\n')\n",
    "print(tabulate(with_pop.tail(5), ['1st / 2nd Hero', 'Win Rate', 'Popularity'], tablefmt=\"pipe\"))\n",
    "\n",
    "print('\\n')\n",
    "\n",
    "with_pop = with_pop.sort_values(by='Popularity', ascending=False)\n",
    "\n",
    "print(tabulate(with_pop.head(5), ['1st / 2nd Hero', 'Pick', 'Win Rate', 'Popularity'], tablefmt=\"pipe\"))\n",
    "print('\\n')\n",
    "print(tabulate(with_pop.tail(5), ['1st / 2nd Hero', 'Win Rate', 'Popularity'], tablefmt=\"pipe\"))"
   ]
  },
  {
   "cell_type": "code",
   "execution_count": 7,
   "metadata": {
    "collapsed": false
   },
   "outputs": [
    {
     "data": {
      "text/plain": [
       "<matplotlib.axes._subplots.AxesSubplot at 0x11a9ba1d0>"
      ]
     },
     "execution_count": 7,
     "metadata": {},
     "output_type": "execute_result"
    },
    {
     "data": {
      "image/png": "[encoded data removed]",
      "text/plain": [
       "<matplotlib.figure.Figure at 0x11a99e710>"
      ]
     },
     "metadata": {},
     "output_type": "display_data"
    }
   ],
   "source": [
    "import seaborn as sns\n",
    "\n",
    "pairs1 = remapped[['Won', 'Player Hero', 'Player Pick']].copy()\n",
    "pairs1.columns = ['Won', 'Hero', 'Pick']\n",
    "pairs2 = remapped[['Won', 'Other Hero', 'Other Pick']].copy()\n",
    "pairs2['Won'] = ~pairs2['Won']\n",
    "pairs2.columns = ['Won', 'Hero', 'Pick']\n",
    "pairs = pd.concat([pairs1, pairs2])\n",
    "\n",
    "t = pd.crosstab(pairs['Won'], [pairs['Hero'], pairs['Pick']])\n",
    "p = (t[1:] / t.sum()).T.unstack(level=1).round(2)\n",
    "sns.heatmap(p[True], annot=True)"
   ]
  },
  {
   "cell_type": "code",
   "execution_count": 8,
   "metadata": {
    "collapsed": false
   },
   "outputs": [
    {
     "name": "stdout",
     "output_type": "stream",
     "text": [
      "| Picked Class   | Win Rate   | Popularity   |\n",
      "|:---------------|:-----------|:-------------|\n",
      "| PALADIN        | 52%        | 15%          |\n",
      "| DRUID          | 51%        | 13%          |\n",
      "| WARRIOR        | 51%        | 9%           |\n",
      "| HUNTER         | 50%        | 12%          |\n",
      "| MAGE           | 50%        | 19%          |\n",
      "| PRIEST         | 49%        | 10%          |\n",
      "| SHAMAN         | 49%        | 9%           |\n",
      "| ROGUE          | 48%        | 9%           |\n",
      "| WARLOCK        | 47%        | 6%           |\n"
     ]
    }
   ],
   "source": [
    "t = (pd.crosstab(remapped['Won'], remapped['Player Pick']) + pd.crosstab(~remapped['Won'], remapped['Other Pick'])) / 2\n",
    "t = (t[1:] / t.sum()).T.round(2)\n",
    "pop = pd.DataFrame((remapped.groupby('Player Pick').size() + remapped.groupby('Other Pick').size()) / (2*len(remapped)))\n",
    "t = t.join(pop)\n",
    "\n",
    "def to_pct(dbl):\n",
    "    return '%.f%%' % (dbl * 100)\n",
    "\n",
    "out = t\n",
    "out[True] = out[True].apply(to_pct)\n",
    "out[0] = out[0].apply(to_pct)\n",
    "out = out.sort_values(by=True, ascending=False)\n",
    "\n",
    "from tabulate import tabulate\n",
    "print(tabulate(out, ['Picked Class', 'Win Rate', 'Popularity'], tablefmt=\"pipe\"))\n"
   ]
  },
  {
   "cell_type": "code",
   "execution_count": 9,
   "metadata": {
    "collapsed": false
   },
   "outputs": [
    {
     "name": "stdout",
     "output_type": "stream",
     "text": [
      "| First Hero   | Win Rate   | Popularity   |\n",
      "|:-------------|:-----------|:-------------|\n",
      "| PALADIN      | 55%        | 12%          |\n",
      "| MAGE         | 54%        | 17%          |\n",
      "| DRUID        | 53%        | 11%          |\n",
      "| HUNTER       | 49%        | 11%          |\n",
      "| ROGUE        | 49%        | 10%          |\n",
      "| SHAMAN       | 49%        | 8%           |\n",
      "| WARLOCK      | 46%        | 11%          |\n",
      "| WARRIOR      | 46%        | 10%          |\n",
      "| PRIEST       | 45%        | 10%          |\n"
     ]
    }
   ],
   "source": [
    "t = (pd.crosstab(remapped['Won'], remapped['Player Hero']) + pd.crosstab(~remapped['Won'], remapped['Other Hero'])) / 2\n",
    "t = (t[1:] / t.sum()).T.round(2)\n",
    "pop = pd.DataFrame((remapped.groupby('Player Hero').size() + remapped.groupby('Other Hero').size()) / (2 * len(remapped)))\n",
    "t = t.join(pop)\n",
    "\n",
    "def to_pct(dbl):\n",
    "    return '%.f%%' % (dbl * 100)\n",
    "out = t\n",
    "out[True] = out[True].apply(to_pct)\n",
    "out[0] = out[0].apply(to_pct)\n",
    "out = out.sort_values(by=True, ascending=False)\n",
    "\n",
    "from tabulate import tabulate\n",
    "print(tabulate(out, ['First Hero', 'Win Rate', 'Popularity'], tablefmt=\"pipe\"))"
   ]
  },
  {
   "cell_type": "code",
   "execution_count": null,
   "metadata": {
    "collapsed": false
   },
   "outputs": [],
   "source": [
    "import statsmodels.api as sm\n",
    "from patsy import dmatrices, dmatrix\n",
    "\n",
    "formula = \"C(Q(\\\"Player Hero\\\"), Diff) + C(Q(\\\"Other Hero\\\"), Diff) + C(Q(\\\"Other Pick\\\"), Diff)\"\n",
    "X = dmatrix(formula,\n",
    "            remapped, return_type='dataframe')\n",
    "logit = sm.MNLogit(remapped[\"Won\"], X)\n",
    "\n",
    "# fit the model\n",
    "result = logit.fit()\n",
    "result.summary()"
   ]
  }
 ],
 "metadata": {
  "kernelspec": {
   "display_name": "Python 3",
   "language": "python",
   "name": "python3"
  },
  "language_info": {
   "codemirror_mode": {
    "name": "ipython",
    "version": 3
   },
   "file_extension": ".py",
   "mimetype": "text/x-python",
   "name": "python",
   "nbconvert_exporter": "python",
   "pygments_lexer": "ipython3",
   "version": "3.5.2"
  }
 },
 "nbformat": 4,
 "nbformat_minor": 0
}
