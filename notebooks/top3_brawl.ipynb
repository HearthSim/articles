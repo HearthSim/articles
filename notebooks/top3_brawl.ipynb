{
 "cells": [
  {
   "cell_type": "code",
   "execution_count": 1,
   "metadata": {
    "collapsed": true
   },
   "outputs": [],
   "source": [
    "%matplotlib inline\n",
    "import numpy as np\n",
    "import pandas as pd\n",
    "pd.options.display.max_rows = 20\n",
    "pd.options.display.max_colwidth = 200\n",
    "\n",
    "import plotly\n",
    "\n",
    "from hearthstone.enums import CardClass\n",
    "from hearthstone import cardxml\n",
    "db = cardxml.load()[0]\n",
    "\n",
    "import matplotlib\n",
    "import matplotlib.pyplot as plt\n",
    "matplotlib.style.use('ggplot')"
   ]
  },
  {
   "cell_type": "code",
   "execution_count": 2,
   "metadata": {
    "collapsed": false
   },
   "outputs": [],
   "source": [
    "def card_class(e):\n",
    "    return db[e].card_class.name if e else float('NaN')\n",
    "\n",
    "def deck_key(s):\n",
    "    if s.strip():\n",
    "        ids = s.strip().split('|')\n",
    "        if len(ids) > 0:\n",
    "            return ' | '.join(sorted([db[i].name for i in ids if i]))\n",
    "    return float('NaN')\n",
    "\n",
    "def card_count(s):\n",
    "    if s and not pd.isnull(s):\n",
    "        return len(s.split('|'))\n",
    "    return 0\n",
    "\n",
    "def to_pct(dbl):\n",
    "    return '%.1f%%' % (dbl * 100)\n",
    "\n",
    "def quote_pipes(s):\n",
    "    return s.replace('|', '\\\\|')\n",
    "\n",
    "\n",
    "columns = [ 'first_player', 'friendly_player', 'hero1', 'hero2',\n",
    "            'final_state1', 'final_state2', 'turns', 'fatigue1',\n",
    "            'fatigue2', 'deck1', 'deck2' ]\n",
    "converters = {column: card_class for column in [2, 3]}\n",
    "converters.update({9: deck_key, 10: deck_key})\n",
    "\n",
    "raw_df = pd.read_csv('top3_final.csv', names=columns)\n",
    "df = pd.read_csv('top3_final.csv', names=columns,\n",
    "                 converters=converters)\n",
    "df['turns'] = np.round(df['turns'] / 2)\n",
    "df['card_count1'] = df['deck1'].apply(card_count)\n",
    "df['card_count2'] = df['deck2'].apply(card_count)"
   ]
  },
  {
   "cell_type": "code",
   "execution_count": 3,
   "metadata": {
    "collapsed": false
   },
   "outputs": [
    {
     "name": "stdout",
     "output_type": "stream",
     "text": [
      "| Deck                                                         | Win Rate   | Popularity   |\n",
      "|:-------------------------------------------------------------|:-----------|:-------------|\n",
      "| Annoy-o-Tron \\| Mechwarper \\| Metaltooth Leaper              | 72.3%      | 5.2%         |\n",
      "| Malchezaar's Imp \\| Silverware Golem \\| Soulfire             | 69.5%      | 5.8%         |\n",
      "| Barnes \\| Deathwing, Dragonlord \\| Innervate                 | 68.6%      | 0.7%         |\n",
      "| Barnes \\| Innervate \\| Ragnaros the Firelord                 | 67.6%      | 0.9%         |\n",
      "| Fist of Jaraxxus \\| Malchezaar's Imp \\| Soulfire             | 67.4%      | 4.7%         |\n",
      "| Bolster \\| Shieldbearer \\| Target Dummy                      | 67.3%      | 0.7%         |\n",
      "| Annoy-o-Tron \\| Gorillabot A-3 \\| Mechwarper                 | 67.1%      | 0.3%         |\n",
      "| Annoy-o-Tron \\| Iron Sensei \\| Mechwarper                    | 67.0%      | 0.2%         |\n",
      "| Barnes \\| Innervate \\| Y'Shaarj, Rage Unbound                | 65.4%      | 1.4%         |\n",
      "| Frostbolt \\| Ice Lance \\| Mana Wyrm                          | 65.3%      | 0.2%         |\n",
      "| Mechwarper \\| Metaltooth Leaper \\| Tracking                  | 61.8%      | 0.3%         |\n",
      "| Everyfin is Awesome \\| Murloc Tidehunter \\| Murloc Tinyfin   | 61.1%      | 0.9%         |\n",
      "| Gorillabot A-3 \\| Mechwarper \\| Metaltooth Leaper            | 60.7%      | 0.7%         |\n",
      "| Coldlight Oracle \\| Innervate \\| Naturalize                  | 60.7%      | 19.4%        |\n",
      "| Innervate \\| Living Roots \\| Power of the Wild               | 59.9%      | 0.3%         |\n",
      "| Gorillabot A-3 \\| Iron Sensei \\| Mechwarper                  | 59.8%      | 0.2%         |\n",
      "| Lightning Bolt \\| Rockbiter Weapon \\| Tunnel Trogg           | 59.8%      | 0.2%         |\n",
      "| Arcane Intellect \\| Fireball \\| Ice Block                    | 58.5%      | 0.8%         |\n",
      "| Arcane Missiles \\| Frostbolt \\| Mana Wyrm                    | 58.1%      | 0.3%         |\n",
      "| Enhance-o Mechano \\| Mechwarper \\| Metaltooth Leaper         | 57.5%      | 1.0%         |\n",
      "| Everyfin is Awesome \\| Murloc Tidecaller \\| Murloc Tinyfin   | 57.4%      | 0.3%         |\n",
      "| Arcane Missiles \\| Babbling Book \\| Mana Wyrm                | 56.9%      | 0.6%         |\n",
      "| Frostbolt \\| Ice Block \\| Ice Lance                          | 55.1%      | 0.6%         |\n",
      "| Innervate \\| Naturalize \\| Prince Malchezaar                 | 54.9%      | 0.3%         |\n",
      "| Bolster \\| Protect the King! \\| Shieldbearer                 | 54.7%      | 0.4%         |\n",
      "| Arcane Missiles \\| Mana Wyrm \\| Mirror Image                 | 53.7%      | 0.7%         |\n",
      "| Innervate \\| Prince Malchezaar \\| Raven Idol                 | 53.6%      | 0.3%         |\n",
      "| Astral Communion \\| Innervate \\| Prince Malchezaar           | 53.2%      | 0.9%         |\n",
      "| Everyfin is Awesome \\| Grimscale Oracle \\| Murloc Tinyfin    | 52.9%      | 0.2%         |\n",
      "| Circle of Healing \\| Embrace the Shadow \\| Prince Malchezaar | 52.9%      | 0.2%         |\n",
      "| Arcane Intellect \\| Frostbolt \\| Sorcerer's Apprentice       | 52.9%      | 0.3%         |\n",
      "| Bolster \\| Protect the King! \\| Target Dummy                 | 52.8%      | 0.2%         |\n",
      "| Bloodsail Raider \\| Dread Corsair \\| Upgrade!                | 51.7%      | 0.3%         |\n",
      "| Cold Blood \\| Conceal \\| Young Dragonhawk                    | 51.4%      | 1.3%         |\n",
      "| Astral Communion \\| Innervate \\| Yogg-Saron, Hope's End      | 51.0%      | 0.3%         |\n",
      "| Cold Blood \\| Conceal \\| Worgen Infiltrator                  | 50.5%      | 0.2%         |\n",
      "| Barnes \\| Innervate \\| Prince Malchezaar                     | 48.7%      | 0.5%         |\n",
      "| Fiery War Axe \\| Heroic Strike \\| Upgrade!                   | 48.1%      | 0.5%         |\n",
      "| Arcane Intellect \\| Forgotten Torch \\| Sorcerer's Apprentice | 46.3%      | 1.8%         |\n",
      "| Circle of Healing \\| Embrace the Shadow \\| Flash Heal        | 46.1%      | 0.4%         |\n",
      "| Frostbolt \\| Ice Lance \\| Sorcerer's Apprentice              | 45.8%      | 0.5%         |\n",
      "| Arcane Missiles \\| Frostbolt \\| Ice Lance                    | 45.1%      | 0.2%         |\n",
      "| Fist of Jaraxxus \\| Silverware Golem \\| Soulfire             | 43.8%      | 0.7%         |\n",
      "| Innervate \\| Prince Malchezaar \\| Wild Growth                | 42.0%      | 0.5%         |\n",
      "| Innervate \\| Raven Idol \\| Yogg-Saron, Hope's End            | 41.7%      | 0.8%         |\n",
      "| Divine Spirit \\| Inner Fire \\| Shieldbearer                  | 39.9%      | 0.4%         |\n",
      "| Divine Spirit \\| Inner Fire \\| Lightwell                     | 39.8%      | 0.3%         |\n",
      "| Innervate \\| Nourish \\| Yogg-Saron, Hope's End               | 34.6%      | 0.2%         |\n",
      "| Innervate \\| Wild Growth \\| Yogg-Saron, Hope's End           | 33.4%      | 1.3%         |\n",
      "| Doomsayer \\| Mind Blast \\| Resurrect                         | 33.0%      | 0.2%         |\n",
      "| Arcane Intellect \\| Ice Lance \\| Sorcerer's Apprentice       | 31.9%      | 0.2%         |\n",
      "| Doomsayer \\| Resurrect \\| Yogg-Saron, Hope's End             | 31.6%      | 0.4%         |\n"
     ]
    }
   ],
   "source": [
    "decks1 = df[df['card_count1'] == 3][['final_state1', 'deck1']].copy()\n",
    "decks1.columns = ['outcome', 'deck']\n",
    "decks2 = df[df['card_count2'] == 3][['final_state2', 'deck2']].copy()\n",
    "decks2.columns = ['outcome', 'deck']\n",
    "decks = pd.concat([decks1, decks2]).dropna()\n",
    "\n",
    "ct = pd.crosstab(decks['outcome'], decks['deck']).T\n",
    "\n",
    "win_rate = pd.DataFrame((ct['WON'] + ct['TIED'] / 2) / ct.sum(axis=1), columns=['Win Rate'])\n",
    "popularity = pd.DataFrame(ct.sum(axis=1) / ct.sum(axis=1).sum(), columns=['Popularity'])\n",
    "num_games = pd.DataFrame(ct.sum(axis=1), columns=['num_games'])\n",
    "\n",
    "joint = win_rate.join([popularity, num_games])\n",
    "joint = joint[joint.index.map(lambda s: len(s.split('|'))) == 3]\n",
    "joint = joint[joint['num_games'] > 100]\n",
    "best = (joint[['Win Rate', 'Popularity']].sort_values(by='Win Rate', ascending=False)\n",
    "        .head(100).applymap(to_pct))\n",
    "best.index = best.index.map(quote_pipes)\n",
    "\n",
    "from tabulate import tabulate\n",
    "print(tabulate(best, ['Deck'] + list(best.columns.values), tablefmt=\"pipe\"))\n"
   ]
  },
  {
   "cell_type": "code",
   "execution_count": 4,
   "metadata": {
    "collapsed": false
   },
   "outputs": [
    {
     "data": {
      "text/plain": [
       "20002"
      ]
     },
     "execution_count": 4,
     "metadata": {},
     "output_type": "execute_result"
    }
   ],
   "source": [
    "#popularity = pd.DataFrame(ct.sum(axis=1), columns=['ct'])\n",
    "#for i in range(1, 10):\n",
    "#    print((i, len(popularity[popularity['ct'] == i])))\n",
    "\"\"\"\n",
    "fig, ax = plt.subplots(figsize=(12, 8))\n",
    "matplotlib.style.use('ggplot')\n",
    "\n",
    "popularity.plot.hist(bins=1000, ax=ax, logx = True)\n",
    "\n",
    "ax.set_xlabel(\"# of Games\")\n",
    "ax.set_ylabel(\"Cumulative % Players\")\n",
    "ax.set_title('')\n",
    "\"\"\"\n",
    "#print((len(popularity[popularity['ct'] > 100])))\n",
    "#vals = ax.get_yticks()\n",
    "#ax.set_yticklabels(['{:3.0f}%'.format(x*100) for x in vals])\n",
    "popularity = pd.DataFrame(ct.sum(axis=1) / ct.sum(axis=1).sum(), columns=['Popularity']).sort_values(by='Popularity')\n",
    "popularity\n",
    "\n",
    "decks1 = df[df['card_count1'] == 0][['final_state1', 'deck1']].copy()\n",
    "decks1.columns = ['outcome', 'deck']\n",
    "decks2 = df[df['card_count2'] == 0][['final_state2', 'deck2']].copy()\n",
    "decks2.columns = ['outcome', 'deck']\n",
    "decks = pd.concat([decks1, decks2])\n",
    "len(decks)"
   ]
  },
  {
   "cell_type": "code",
   "execution_count": 5,
   "metadata": {
    "collapsed": false,
    "scrolled": false
   },
   "outputs": [
    {
     "name": "stdout",
     "output_type": "stream",
     "text": [
      "|    | class_deck1                                                        | class_deck2                                                      | rate   |   num_games |\n",
      "|---:|:-------------------------------------------------------------------|:-----------------------------------------------------------------|:-------|------------:|\n",
      "|  0 | WARLOCK: Malchezaar's Imp | Silverware Golem | Soulfire            | DRUID: Innervate | Prince Malchezaar                             | 100.0% |          11 |\n",
      "|  1 | WARRIOR: Fiery War Axe | Heroic Strike | Upgrade!                  | DRUID: Coldlight Oracle | Innervate | Naturalize                 | 100.0% |          13 |\n",
      "|  2 | ROGUE: Cold Blood | Conceal | Young Dragonhawk                     | DRUID: Coldlight Oracle | Innervate | Naturalize                 | 100.0% |          10 |\n",
      "|  3 | HUNTER: Annoy-o-Tron | Metaltooth Leaper                           | DRUID: Coldlight Oracle | Innervate | Naturalize                 | 100.0% |          18 |\n",
      "|  4 | DRUID: Coldlight Oracle | Innervate | Naturalize                   | MAGE: Arcane Intellect | Fireball | Ice Block                    | 100.0% |          20 |\n",
      "|  5 | DRUID: Coldlight Oracle | Innervate                                | DRUID: Innervate | Raven Idol | Yogg-Saron, Hope's End           | 100.0% |          11 |\n",
      "|  6 | WARLOCK: Soulfire                                                  | MAGE: Arcane Intellect | Forgotten Torch | Sorcerer's Apprentice | 100.0% |          12 |\n",
      "|  7 | PRIEST: Circle of Healing | Embrace the Shadow | Prince Malchezaar | DRUID: Coldlight Oracle | Innervate | Naturalize                 | 100.0% |          12 |\n",
      "|  8 | ROGUE: Cold Blood | Conceal                                        | DRUID: Coldlight Oracle | Innervate | Naturalize                 | 100.0% |          15 |\n",
      "|  9 | ROGUE: Young Dragonhawk                                            | DRUID: Coldlight Oracle | Innervate | Naturalize                 | 100.0% |          12 |\n",
      "| 10 | DRUID: Coldlight Oracle | Innervate | Naturalize                   | PRIEST: Inner Fire                                               | 100.0% |          11 |\n",
      "| 11 | ROGUE: Cold Blood | Conceal | Young Dragonhawk                     | DRUID: Coldlight Oracle | Innervate                              | 100.0% |          14 |\n",
      "| 12 | DRUID: Coldlight Oracle | Innervate | Naturalize                   | PRIEST: Shieldbearer                                             | 100.0% |          10 |\n",
      "| 13 | WARRIOR: Prince Malchezaar                                         | DRUID: Coldlight Oracle | Innervate | Naturalize                 | 100.0% |          15 |\n",
      "| 14 | DRUID: Coldlight Oracle | Naturalize                               | DRUID: Innervate | Wild Growth | Yogg-Saron, Hope's End          | 100.0% |          14 |\n",
      "| 15 | DRUID: Barnes                                                      | WARLOCK: Fist of Jaraxxus | Malchezaar's Imp | Soulfire          | 100.0% |          13 |\n",
      "| 16 | ROGUE: Conceal                                                     | DRUID: Coldlight Oracle | Innervate | Naturalize                 | 100.0% |          10 |\n",
      "| 17 | WARLOCK: Malchezaar's Imp | Silverware Golem | Soulfire            | MAGE: Arcane Missiles                                            | 100.0% |          12 |\n",
      "| 18 | DRUID: Coldlight Oracle | Innervate | Naturalize                   | DRUID: Innervate | Wild Growth | Yogg-Saron, Hope's End          | 97.5%  |          40 |\n",
      "| 19 | HUNTER: Annoy-o-Tron | Mechwarper | Metaltooth Leaper              | DRUID: Prince Malchezaar                                         | 95.6%  |          45 |\n"
     ]
    }
   ],
   "source": [
    "# Note that we don't drop incomplete decks here, unlike above\n",
    "out_col = ['outcome', 'deck1', 'deck2', 'class1', 'class2']\n",
    "decks1 = df[['final_state1', 'deck1', 'deck2', 'hero1', 'hero2']].copy()\n",
    "decks1.columns = out_col\n",
    "decks2 = df[['final_state2', 'deck2', 'deck1', 'hero2', 'hero1']].copy()\n",
    "decks2.columns = out_col\n",
    "decks = pd.concat([decks1, decks2]).dropna()\n",
    "\n",
    "# Add back class for more reliable distinguishing when there is just 1-2 cards\n",
    "decks['class_deck1'] = decks['class1'].str.cat(decks['deck1'], sep=': ')\n",
    "decks['class_deck2'] = decks['class2'].str.cat(decks['deck2'], sep=': ')\n",
    "\n",
    "t = pd.crosstab(decks['outcome'], [decks['class_deck1'], decks['class_deck2']]).T\n",
    "f = t[t.sum(axis=1) >= 10]\n",
    "matchups = pd.DataFrame((f['WON'] + f['TIED'] / 2.0) / f.sum(axis=1))\n",
    "matchups.columns = ['rate']\n",
    "matchups['num_games'] = f.sum(axis=1)\n",
    "matchups = matchups.sort_values(by='rate', ascending=False)\n",
    "\n",
    "from tabulate import tabulate\n",
    "for_tab = matchups.copy().reset_index().head(20)\n",
    "for_tab['rate'] = for_tab['rate'].apply(to_pct)\n",
    "print(tabulate(for_tab, list(for_tab.columns.values), tablefmt=\"pipe\"))\n",
    "#matchups"
   ]
  },
  {
   "cell_type": "code",
   "execution_count": 240,
   "metadata": {
    "collapsed": false
   },
   "outputs": [
    {
     "name": "stdout",
     "output_type": "stream",
     "text": [
      "\n",
      "### Counters to Coldlight Oracle | Innervate | Naturalize\n",
      "\n",
      "| Deck                                                         | Win Rate   |\n",
      "|:-------------------------------------------------------------|:-----------|\n",
      "| Fiery War Axe \\| Heroic Strike \\| Upgrade!                   | 100.0%     |\n",
      "| Cold Blood \\| Conceal \\| Young Dragonhawk                    | 100.0%     |\n",
      "| Circle of Healing \\| Embrace the Shadow \\| Prince Malchezaar | 100.0%     |\n",
      "| Frostbolt \\| Ice Lance \\| Sorcerer's Apprentice              | 92.3%      |\n",
      "| Innervate \\| Naturalize \\| Prince Malchezaar                 | 85.7%      |\n",
      "\n",
      "### Counters to Malchezaar's Imp | Silverware Golem | Soulfire\n",
      "\n",
      "| Deck                                        | Win Rate   |\n",
      "|:--------------------------------------------|:-----------|\n",
      "| Coldlight Oracle \\| Innervate \\| Naturalize | 75.0%      |\n",
      "\n",
      "### Counters to Annoy-o-Tron | Mechwarper | Metaltooth Leaper\n",
      "\n",
      "| Deck                                             | Win Rate   |\n",
      "|:-------------------------------------------------|:-----------|\n",
      "| Fist of Jaraxxus \\| Malchezaar's Imp \\| Soulfire | 63.9%      |\n",
      "\n",
      "### Counters to Fist of Jaraxxus | Malchezaar's Imp | Soulfire\n",
      "\n",
      "| Deck                                             | Win Rate   |\n",
      "|:-------------------------------------------------|:-----------|\n",
      "| Malchezaar's Imp \\| Silverware Golem \\| Soulfire | 62.5%      |\n",
      "\n",
      "### Counters to Arcane Intellect | Forgotten Torch | Sorcerer's Apprentice\n",
      "\n",
      "| Deck                                        | Win Rate   |\n",
      "|:--------------------------------------------|:-----------|\n",
      "| Coldlight Oracle \\| Innervate \\| Naturalize | 69.8%      |\n",
      "\n",
      "### Counters to Barnes | Innervate | Y'Shaarj, Rage Unbound\n",
      "\n",
      "| Deck                                        | Win Rate   |\n",
      "|:--------------------------------------------|:-----------|\n",
      "| Coldlight Oracle \\| Innervate \\| Naturalize | 79.3%      |\n",
      "\n",
      "### Counters to Innervate | Wild Growth | Yogg-Saron, Hope's End\n",
      "\n",
      "| Deck                                        | Win Rate   |\n",
      "|:--------------------------------------------|:-----------|\n",
      "| Coldlight Oracle \\| Innervate \\| Naturalize | 97.5%      |\n",
      "\n",
      "### Counters to Barnes | Innervate | Ragnaros the Firelord\n",
      "\n",
      "| Deck                                        | Win Rate   |\n",
      "|:--------------------------------------------|:-----------|\n",
      "| Coldlight Oracle \\| Innervate \\| Naturalize | 55.6%      |\n",
      "\n",
      "### Counters to Innervate | Raven Idol | Yogg-Saron, Hope's End\n",
      "\n",
      "| Deck                                        | Win Rate   |\n",
      "|:--------------------------------------------|:-----------|\n",
      "| Coldlight Oracle \\| Innervate \\| Naturalize | 91.9%      |\n",
      "\n",
      "### Counters to Arcane Intellect | Fireball | Ice Block\n",
      "\n",
      "| Deck                                        | Win Rate   |\n",
      "|:--------------------------------------------|:-----------|\n",
      "| Coldlight Oracle \\| Innervate \\| Naturalize | 100.0%     |\n",
      "\n",
      "### Counters to Arcane Missiles | Mana Wyrm | Mirror Image\n",
      "\n",
      "| Deck                                        | Win Rate   |\n",
      "|:--------------------------------------------|:-----------|\n",
      "| Coldlight Oracle \\| Innervate \\| Naturalize | 75.0%      |\n",
      "\n",
      "### Counters to Barnes | Deathwing, Dragonlord | Innervate\n",
      "\n",
      "| Deck                                        | Win Rate   |\n",
      "|:--------------------------------------------|:-----------|\n",
      "| Coldlight Oracle \\| Innervate \\| Naturalize | 53.8%      |\n",
      "\n",
      "### Counters to Frostbolt | Ice Block | Ice Lance\n",
      "\n",
      "| Deck                                        | Win Rate   |\n",
      "|:--------------------------------------------|:-----------|\n",
      "| Coldlight Oracle \\| Innervate \\| Naturalize | 56.5%      |\n"
     ]
    }
   ],
   "source": [
    "# Find strongest counter picks to popular decks\n",
    "top = joint[['Win Rate', 'Popularity']].sort_values(by='Popularity', ascending=False).head(20).index.values\n",
    "\n",
    "full_matchups = matchups.copy()\n",
    "full_matchups.reset_index(inplace=True)\n",
    "\n",
    "for idx in [1, 2]:\n",
    "    col = 'class_deck%d' % idx\n",
    "    full_matchups[col] = (full_matchups[col][full_matchups[col].str.split('|').apply(len) == 3])\n",
    "full_matchups = full_matchups.dropna()\n",
    "\n",
    "for idx in [1, 2]:\n",
    "    col = 'class_deck%d' % idx\n",
    "    full_matchups[col] = full_matchups[col].str.split(': ').apply(lambda x: x[1])\n",
    "    \n",
    "\n",
    "from tabulate import tabulate\n",
    "for deck in top:\n",
    "    counters = full_matchups[(full_matchups['class_deck2'] == deck) &\n",
    "                             (full_matchups['rate'] > 0.5)][['class_deck1', 'rate']].head(5)\n",
    "    counters = counters.set_index('class_deck1')\n",
    "    counters.index = counters.index.map(quote_pipes)\n",
    "    if not counters.empty:\n",
    "        counters['rate'] = counters['rate'].apply(to_pct)\n",
    "        print('\\n### Counters to %s\\n' % deck)\n",
    "        print(tabulate(counters, ['Deck', 'Win Rate'], tablefmt=\"pipe\"))\n",
    "\n",
    "#(full_matchups['class_deck2'] == deck) & (full_matchups['rate'] > 0.6)\n",
    "\n",
    "#full_matchups\n"
   ]
  },
  {
   "cell_type": "code",
   "execution_count": 6,
   "metadata": {
    "collapsed": false
   },
   "outputs": [
    {
     "data": {
      "text/plain": [
       "[<matplotlib.text.Text at 0x11a8b3860>,\n",
       " <matplotlib.text.Text at 0x11a8c17b8>,\n",
       " <matplotlib.text.Text at 0x11ac10ac8>,\n",
       " <matplotlib.text.Text at 0x11ac1d518>,\n",
       " <matplotlib.text.Text at 0x11ac1df60>,\n",
       " <matplotlib.text.Text at 0x11ac219e8>]"
      ]
     },
     "execution_count": 6,
     "metadata": {},
     "output_type": "execute_result"
    },
    {
     "data": {
      "image/png": "[encoded data removed]",
      "text/plain": [
       "<matplotlib.figure.Figure at 0x117a74b00>"
      ]
     },
     "metadata": {},
     "output_type": "display_data"
    }
   ],
   "source": [
    "fig, ax = plt.subplots(figsize=(12, 8))\n",
    "pd.DataFrame(df.turns).hist(bins=30, figsize=(12, 8), ax=ax, normed=True, cumulative=True)\n",
    "matplotlib.style.use('ggplot')\n",
    "\n",
    "ax.set_xlabel(\"Turn\")\n",
    "ax.set_ylabel(\"% of games\")\n",
    "ax.set_title('')\n",
    "\n",
    "vals = ax.get_yticks()\n",
    "ax.set_yticklabels(['{:3.0f}%'.format(x*100) for x in vals])"
   ]
  },
  {
   "cell_type": "code",
   "execution_count": 7,
   "metadata": {
    "collapsed": false
   },
   "outputs": [
    {
     "data": {
      "text/plain": [
       "0.0     0.054308\n",
       "1.0     0.076189\n",
       "2.0     0.206602\n",
       "3.0     0.282853\n",
       "4.0     0.563522\n",
       "5.0     0.651171\n",
       "6.0     0.821041\n",
       "7.0     0.854174\n",
       "8.0     0.919589\n",
       "9.0     0.934045\n",
       "10.0    0.963330\n",
       "11.0    0.969258\n",
       "12.0    0.981988\n",
       "13.0    0.984380\n",
       "14.0    0.989767\n",
       "15.0    0.991139\n",
       "16.0    0.993490\n",
       "17.0    0.994114\n",
       "18.0    0.995861\n",
       "19.0    0.996256\n",
       "20.0    0.997109\n",
       "21.0    0.997379\n",
       "22.0    0.997941\n",
       "23.0    0.998045\n",
       "24.0    0.998357\n",
       "25.0    0.998440\n",
       "26.0    0.998960\n",
       "27.0    0.999147\n",
       "28.0    0.999376\n",
       "29.0    0.999438\n",
       "30.0    0.999584\n",
       "31.0    0.999605\n",
       "32.0    0.999750\n",
       "34.0    0.999813\n",
       "36.0    0.999896\n",
       "38.0    0.999938\n",
       "40.0    0.999958\n",
       "45.0    1.000000\n",
       "Name: turns, dtype: float64"
      ]
     },
     "execution_count": 7,
     "metadata": {},
     "output_type": "execute_result"
    }
   ],
   "source": [
    "#hist, edges = np.histogram(df.turns, bins=100, density=True)\n",
    "x = (df.turns.value_counts() / len(df.turns)).sort_index()\n",
    "x\n",
    "pd.options.display.max_rows = 100\n",
    "x.cumsum()"
   ]
  },
  {
   "cell_type": "code",
   "execution_count": 322,
   "metadata": {
    "collapsed": false
   },
   "outputs": [
    {
     "data": {
      "text/plain": [
       "<matplotlib.axes._subplots.AxesSubplot at 0x14cecaa58>"
      ]
     },
     "execution_count": 322,
     "metadata": {},
     "output_type": "execute_result"
    },
    {
     "data": {
      "image/png": "[encoded data removed]",
      "text/plain": [
       "<matplotlib.figure.Figure at 0x120f51898>"
      ]
     },
     "metadata": {},
     "output_type": "display_data"
    }
   ],
   "source": [
    "from  sklearn.feature_extraction import DictVectorizer\n",
    "from sklearn.feature_extraction.text import TfidfTransformer\n",
    "from sklearn.cluster import DBSCAN\n",
    "from sklearn import covariance\n",
    "\n",
    "# Group decks together based on cards\n",
    "decks1 = raw_df.dropna()[['deck1', 'hero1']].copy()\n",
    "decks1.columns = ['deck', 'hero']\n",
    "decks2 = raw_df[['deck2', 'hero2']].copy()\n",
    "decks2['deck2'] = decks2['deck2'].str.strip()\n",
    "decks2 = decks2.replace('', np.nan).dropna()\n",
    "\n",
    "decks2.columns = ['deck', 'hero']\n",
    "decks = pd.concat([decks1, decks2]).dropna()\n",
    "decks['card_count'] = decks['deck'].apply(card_count)\n",
    "\n",
    "\n",
    "\n",
    "decks['hero'] = decks['hero'].apply(card_class)\n",
    "deck_groups = decks.groupby(['deck', 'hero', 'card_count']).size()\n",
    "\n",
    "deck_groups = deck_groups.T.reset_index()\n",
    "pd.options.display.max_rows = 500\n",
    "\n",
    "\n",
    "d = [dict({k: row[0] for k in row['deck'].split('|')}, **{row['hero']: row[0]}) for _, row in deck_groups.iterrows()]\n",
    "\n",
    "hasher = DictVectorizer(sparse=False)\n",
    "X = hasher.fit_transform(d)\n",
    "\n",
    "tfid = TfidfTransformer(sublinear_tf=False)\n",
    "X = tfid.fit_transform(X)\n",
    "\n",
    "#decks\n",
    "\n",
    "#decks\n",
    "#raw_df.tail()\n",
    "from sklearn.metrics.pairwise import cosine_similarity\n",
    "sim = cosine_similarity(X)\n",
    "\n",
    "f = sim[:20, :20]\n",
    "import seaborn as sns\n",
    "sns.heatmap(f)\n",
    "\n",
    "#d[2], d[4]\n",
    "#edge_model = covariance.GraphLassoCV()\n",
    "\n",
    "# standardize the time series: using correlations rather than covariance\n",
    "# is more efficient for structure recovery\n",
    "#X = variation.copy().T\n",
    "#X /= X.std(axis=0)\n",
    "\n",
    "\n",
    "#edge_model.fit()\n",
    "\n",
    "#edge_model.covariance_\n",
    "###############################################################################\n",
    "# Cluster using affinity propagation\n",
    "\n",
    "#_, labels = cluster.affinity_propagation(edge_model.covariance_)\n",
    "#n_labels = labels.max()\n",
    "\n",
    "#hasher.inverse_transform(tfid.inverse_transform(ex))"
   ]
  },
  {
   "cell_type": "code",
   "execution_count": 337,
   "metadata": {
    "collapsed": false
   },
   "outputs": [
    {
     "name": "stdout",
     "output_type": "stream",
     "text": [
      "0.640292543797\n",
      "DRUID : Innervate | Living Roots | Prince Malchezaar 0.546600799019\n",
      "DRUID : Innervate | Living Roots | Y'Shaarj, Rage Unbound 0.501425288222\n",
      "DRUID : Innervate | Living Roots | Yogg-Saron, Hope's End 0.501699661198\n",
      "DRUID : Astral Communion | Coldlight Oracle | Innervate 0.521629435159\n",
      "DRUID : Astral Communion | Innervate | Prince Malchezaar 0.547326794102\n",
      "DRUID : Astral Communion | Innervate | Y'Shaarj, Rage Unbound 0.501985567352\n",
      "DRUID : Astral Communion | Innervate | Yogg-Saron, Hope's End 0.502260861592\n",
      "DRUID : Coldlight Oracle | Emperor Thaurissan | Innervate 0.503058572373\n",
      "DRUID : Emperor Thaurissan | Innervate | Prince Malchezaar 0.525987511616\n",
      "DRUID : Coldlight Oracle | Goldshire Footman | Innervate 0.507674871634\n",
      "DRUID : Claw | Coldlight Oracle | Innervate 0.502069628192\n",
      "DRUID : Claw | Innervate | Prince Malchezaar 0.524857395385\n",
      "DRUID : Healing Touch | Innervate | Prince Malchezaar 0.510245692378\n",
      "DRUID : Innervate | Moonfire | Prince Malchezaar 0.527091623761\n",
      "DRUID : Coldlight Oracle | Innervate | Mark of the Wild 0.511028353688\n",
      "DRUID : Innervate | Mark of the Wild | Prince Malchezaar 0.535117825105\n",
      "DRUID : Barnes | Innervate | Mark of the Wild 0.521477317198\n",
      "DRUID : Innervate | Prince Malchezaar | Swipe 0.51326106027\n",
      "DRUID : Coldlight Oracle | Innervate | Wild Growth 0.530579554613\n",
      "DRUID : Innervate | Ragnaros the Firelord | Wild Growth 0.504952987625\n",
      "DRUID : Innervate | Prince Malchezaar | Wild Growth 0.557692989062\n",
      "DRUID : Arcane Giant | Innervate | Wild Growth 0.507853407813\n",
      "DRUID : Innervate | Raven Idol | Wild Growth 0.505287972708\n",
      "DRUID : Innervate | Wild Growth | Y'Shaarj, Rage Unbound 0.509946913336\n",
      "DRUID : Innervate | Wild Growth | Yogg-Saron, Hope's End 0.510235522261\n",
      "DRUID : Deathwing, Dragonlord | Innervate | Wild Growth 0.50140476413\n",
      "DRUID : Abusive Sergeant | Innervate | Stonetusk Boar 0.51373693167\n",
      "DRUID : Innervate | Power of the Wild | Stonetusk Boar 0.501947762301\n",
      "DRUID : Bluegill Warrior | Grimscale Oracle | Innervate 0.548271857601\n",
      "DRUID : Elven Archer | Innervate | Prince Malchezaar 0.517449711364\n",
      "DRUID : Alarm-o-Bot | Innervate | Ragnaros the Firelord 0.513403120595\n",
      "DRUID : Alarm-o-Bot | Innervate | Prince Malchezaar 0.569140577572\n",
      "DRUID : Alarm-o-Bot | Innervate | Y'Shaarj, Rage Unbound 0.518654615757\n",
      "DRUID : Alarm-o-Bot | Deathwing, Dragonlord | Innervate 0.509675089314\n",
      "DRUID : Coldlight Oracle | Innervate | Novice Engineer 0.527443556757\n",
      "DRUID : Innervate | Naturalize | Novice Engineer 0.508005244702\n",
      "DRUID : Arcane Giant | Innervate | Novice Engineer 0.505101324191\n",
      "DRUID : Barnes | Innervate | Sylvanas Windrunner 0.509792195421\n",
      "DRUID : Innervate | Leper Gnome | Naturalize 0.526322440367\n",
      "DRUID : Innervate | Knife Juggler | Leper Gnome 0.518042310008\n",
      "DRUID : Doomsayer | Innervate | Leper Gnome 0.54091100862\n",
      "DRUID : Coldlight Oracle | Innervate | Wrath 0.511028353688\n",
      "DRUID : Coldlight Oracle | Innervate | Power of the Wild 0.522858855942\n",
      "DRUID : Coldlight Oracle | Innervate | Naturalize 0.546339456302\n",
      "DRUID : Coldlight Oracle | Innervate | Murloc Warleader 0.539196425164\n",
      "DRUID : Coldlight Oracle | Innervate | Mechwarper 0.600173006766\n",
      "DRUID : Coldlight Oracle | Innervate | Prince Malchezaar 0.604908288391\n",
      "DRUID : Coldlight Oracle | Innervate | Murloc Tinyfin 0.550918138092\n",
      "DRUID : Brann Bronzebeard | Coldlight Oracle | Innervate 0.51631318921\n",
      "DRUID : Coldlight Oracle | Innervate | Raven Idol 0.539604344473\n",
      "DRUID : Coldlight Oracle | Doomsayer | Innervate 0.562709884426\n",
      "DRUID : Coldlight Oracle | Faerie Dragon | Innervate 0.527982825822\n",
      "DRUID : Coldlight Oracle | Innervate | Y'Shaarj, Rage Unbound 0.54528951865\n",
      "DRUID : Coldlight Oracle | Innervate | Yogg-Saron, Hope's End 0.545642432901\n",
      "DRUID : Coldlight Oracle | Deathwing, Dragonlord | Innervate 0.534882632064\n",
      "DRUID : Gadgetzan Auctioneer | Innervate | Prince Malchezaar 0.510245692378\n",
      "DRUID : Innervate | Prince Malchezaar | Wrath 0.535117825105\n",
      "DRUID : Innervate | Naturalize | Power of the Wild 0.503905126826\n",
      "DRUID : Innervate | Power of the Wild | Prince Malchezaar 0.548747517606\n",
      "DRUID : Innervate | Murloc Tinyfin | Power of the Wild 0.507490898316\n",
      "DRUID : Innervate | Naturalize | Ragnaros the Firelord 0.518480486297\n",
      "DRUID : Innervate | Naturalize | Shieldbearer 0.518843141029\n",
      "DRUID : Innervate | Murloc Warleader | Naturalize 0.518480486297\n",
      "DRUID : Innervate | Naturalize | Piloted Shredder 0.50444338571\n",
      "DRUID : Innervate | Naturalize | Prince Malchezaar 0.576081294504\n",
      "DRUID : Innervate | Naturalize | Raven Idol 0.518843141029\n",
      "DRUID : Doomsayer | Innervate | Naturalize 0.539282593636\n",
      "DRUID : Faerie Dragon | Innervate | Naturalize 0.508487008232\n",
      "DRUID : Innervate | Naturalize | Y'Shaarj, Rage Unbound 0.523890989162\n",
      "DRUID : Innervate | Naturalize | Yogg-Saron, Hope's End 0.524203941417\n",
      "DRUID : C'Thun | Innervate | Naturalize 0.501088687008\n",
      "DRUID : Deathwing, Dragonlord | Innervate | Naturalize 0.514641580133\n",
      "DRUID : Innervate | Nourish | Prince Malchezaar 0.530259635739\n",
      "DRUID : Innervate | Prince Malchezaar | Ragnaros the Firelord 0.567725283271\n",
      "DRUID : Barnes | Innervate | Ragnaros the Firelord 0.551513332097\n",
      "DRUID : Innervate | Ragnaros the Firelord | Raven Idol 0.512713484329\n",
      "DRUID : Innervate | Ragnaros the Firelord | Y'Shaarj, Rage Unbound 0.517582856166\n",
      "DRUID : Innervate | Prince Malchezaar | Shieldbearer 0.568201496556\n",
      "DRUID : Innervate | Murloc Tidehunter | Murloc Warleader 0.526611268896\n",
      "DRUID : Grimscale Oracle | Innervate | Murloc Tidehunter 0.550754198022\n",
      "DRUID : Innervate | Murloc Tidecaller | Murloc Warleader 0.52798662291\n",
      "DRUID : Grimscale Oracle | Innervate | Murloc Tidecaller 0.552328098458\n",
      "DRUID : Barnes | Innervate | Ysera 0.501188004846\n",
      "DRUID : Barnes | Innervate | Kel'Thuzad 0.505085750469\n",
      "DRUID : Innervate | Loatheb | Prince Malchezaar 0.520049195685\n",
      "DRUID : Arcane Nullifier X-21 | Innervate | Mechwarper 0.515771255925\n",
      "DRUID : Innervate | Mechwarper | Piloted Shredder 0.545887061143\n",
      "DRUID : Innervate | Mechwarper | Micro Machine 0.556215970975\n",
      "DRUID : Enhance-o Mechano | Innervate | Mechwarper 0.52902725915\n",
      "DRUID : Innervate | Mechwarper | Prince Malchezaar 0.640292543797\n",
      "DRUID : Gorillabot A-3 | Innervate | Mechwarper 0.580354146568\n",
      "DRUID : Innervate | Mechwarper | Psych-o-Tron 0.502551991849\n",
      "DRUID : Annoy-o-Tron | Innervate | Prince Malchezaar 0.589826722299\n",
      "DRUID : Arcane Nullifier X-21 | Innervate | Prince Malchezaar 0.518767263452\n",
      "DRUID : Barnes | Innervate | Piloted Shredder 0.534707593668\n",
      "DRUID : Barnes | Innervate | Moroes 0.506310875229\n",
      "DRUID : Innervate | Moonglade Portal | Prince Malchezaar 0.505322265584\n",
      "DRUID : Barnes | Innervate | Prince Malchezaar 0.622456305108\n",
      "DRUID : Enchanted Raven | Innervate | Prince Malchezaar 0.54119494349\n",
      "DRUID : Elise Starseeker | Innervate | Prince Malchezaar 0.516094414582\n",
      "DRUID : Innervate | Prince Malchezaar | Raven Idol 0.568201496556\n",
      "DRUID : Doomsayer | Innervate | Prince Malchezaar 0.595371437872\n",
      "DRUID : Deathwing | Innervate | Prince Malchezaar 0.50702205408\n",
      "DRUID : Innervate | Prince Malchezaar | Y'Shaarj, Rage Unbound 0.574850778588\n",
      "DRUID : Feral Rage | Innervate | Prince Malchezaar 0.518767263452\n",
      "DRUID : Innervate | Prince Malchezaar | Yogg-Saron, Hope's End 0.575264301982\n",
      "DRUID : Bilefin Tidehunter | Innervate | Prince Malchezaar 0.576081294504\n",
      "DRUID : Barnes | Brann Bronzebeard | Innervate 0.527096616145\n",
      "DRUID : Barnes | Innervate | Y'Shaarj, Rage Unbound 0.558038722214\n",
      "DRUID : Barnes | Innervate | Mark of Y'Shaarj 0.523156500564\n",
      "DRUID : Barnes | Innervate | Yogg-Saron, Hope's End 0.558416991172\n",
      "DRUID : Barnes | Blood of The Ancient One | Innervate 0.514041003047\n",
      "DRUID : Barnes | Deathwing, Dragonlord | Innervate 0.546899665136\n",
      "DRUID : Arcane Giant | Innervate | Raven Idol 0.515750509835\n",
      "DRUID : Arcane Giant | Innervate | Y'Shaarj, Rage Unbound 0.52070776726\n",
      "DRUID : Arcane Giant | Innervate | Yogg-Saron, Hope's End 0.521015046168\n",
      "DRUID : Innervate | Murloc Tinyfin | Raven Idol 0.522759876185\n",
      "DRUID : Innervate | Raven Idol | Y'Shaarj, Rage Unbound 0.517943629287\n",
      "DRUID : Innervate | Raven Idol | Yogg-Saron, Hope's End 0.51824603779\n",
      "DRUID : Bilefin Tidehunter | Innervate | Knife Juggler 0.516611290611\n",
      "DRUID : Deathwing, Dragonlord | Doomsayer | Innervate 0.528255168843\n",
      "DRUID : Innervate | Y'Shaarj, Rage Unbound | Yogg-Saron, Hope's End 0.523276308825\n",
      "DRUID : Deathwing, Dragonlord | Innervate | Y'Shaarj, Rage Unbound 0.513763707682\n"
     ]
    }
   ],
   "source": [
    "full_decks = deck_groups[deck_groups['card_count'] == 3]\n",
    "partials = deck_groups[deck_groups['card_count'].isin([1, 2])]\n",
    "\n",
    "for which in range(len(partials)):\n",
    "#    which = 3\n",
    "    if deck_key(partials.iloc[which].deck) == 'Innervate':\n",
    "\n",
    "        idx = partials.iloc[which].name\n",
    "        best_match = full_decks.index[np.argmax(np.take(sim[idx], full_decks.index.values))]\n",
    "        print(np.max(np.take(sim[idx], full_decks.index.values)))\n",
    "        \n",
    "        ind = full_decks.index.values\n",
    "    #    print(sim[idx][ind] > 0.6)\n",
    "        matches = ind[sim[idx][ind] > 0.5]\n",
    "        for best_match, val in zip(matches, sim[idx][matches]):\n",
    "            print(deck_groups.loc[best_match].hero, ':', deck_key(deck_groups.loc[best_match].deck), val)\n",
    "        #print(partials.iloc[which].hero, ':', deck_key(partials.iloc[which].deck),\n",
    "        #               ' --> ', deck_groups.loc[best_match].hero, ':', deck_key(deck_groups.loc[best_match].deck))\n",
    "    #print(list(zip(sim[idx], range(len(sim[idx])))))\n",
    "    #full_decks\n"
   ]
  },
  {
   "cell_type": "code",
   "execution_count": 82,
   "metadata": {
    "collapsed": false
   },
   "outputs": [
    {
     "data": {
      "text/plain": [
       "<EX1_287: 'Counterspell'>"
      ]
     },
     "execution_count": 82,
     "metadata": {},
     "output_type": "execute_result"
    }
   ],
   "source": [
    "dbs = DBSCAN(eps=0.75, min_samples=2).fit(X)\n",
    "core_samples_mask = np.zeros_like(dbs.labels_, dtype=bool)\n",
    "core_samples_mask[dbs.core_sample_indices_] = True\n",
    "labels = dbs.labels_\n",
    "\n",
    "# Number of clusters in labels, ignoring noise if present.\n",
    "n_clusters_ = len(set(labels)) - (1 if -1 in labels else 0)\n",
    "n_clusters_, list(labels)\n",
    "\n",
    "d[:15]\n",
    "db['EX1_287']\n",
    "#dbs.labels_"
   ]
  },
  {
   "cell_type": "code",
   "execution_count": 177,
   "metadata": {
    "collapsed": false
   },
   "outputs": [
    {
     "data": {
      "text/plain": [
       "[<matplotlib.text.Text at 0x14416fb70>,\n",
       " <matplotlib.text.Text at 0x143f22a90>,\n",
       " <matplotlib.text.Text at 0x14abc2be0>,\n",
       " <matplotlib.text.Text at 0x14abc9b38>,\n",
       " <matplotlib.text.Text at 0x12d02b9e8>,\n",
       " <matplotlib.text.Text at 0x12d08ae10>]"
      ]
     },
     "execution_count": 177,
     "metadata": {},
     "output_type": "execute_result"
    },
    {
     "data": {
      "image/png": "[encoded data removed]",
      "text/plain": [
       "<matplotlib.figure.Figure at 0x14cd103c8>"
      ]
     },
     "metadata": {},
     "output_type": "display_data"
    }
   ],
   "source": [
    "games = pd.read_json('24XM2YH.txt')\n",
    "games.describe()\n",
    "\n",
    "fig, ax = plt.subplots(figsize=(12, 8))\n",
    "matplotlib.style.use('ggplot')\n",
    "\n",
    "games.plot.hist(bins=300, ax=ax, cumulative=True, logx = True, normed=True)\n",
    "\n",
    "ax.set_xlabel(\"# of Games\")\n",
    "ax.set_ylabel(\"Cumulative % Players\")\n",
    "ax.set_title('')\n",
    "\n",
    "vals = ax.get_yticks()\n",
    "ax.set_yticklabels(['{:3.0f}%'.format(x*100) for x in vals])"
   ]
  }
 ],
 "metadata": {
  "kernelspec": {
   "display_name": "Python 3",
   "language": "python",
   "name": "python3"
  },
  "language_info": {
   "codemirror_mode": {
    "name": "ipython",
    "version": 3
   },
   "file_extension": ".py",
   "mimetype": "text/x-python",
   "name": "python",
   "nbconvert_exporter": "python",
   "pygments_lexer": "ipython3",
   "version": "3.5.2"
  }
 },
 "nbformat": 4,
 "nbformat_minor": 0
}
